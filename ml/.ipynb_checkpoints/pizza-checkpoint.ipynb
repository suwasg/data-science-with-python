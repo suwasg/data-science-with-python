{
 "cells": [
  {
   "cell_type": "code",
   "execution_count": 1,
   "id": "8bc2ab6a-a88d-41bc-950f-04574e692d12",
   "metadata": {},
   "outputs": [],
   "source": [
    "import numpy as np\n",
    "import pandas as pd\n",
    "import seaborn as sns\n",
    "import matplotlib.pyplot as plt"
   ]
  },
  {
   "cell_type": "code",
   "execution_count": 2,
   "id": "7bea622e-444e-46bf-90b5-0b5890580124",
   "metadata": {},
   "outputs": [
    {
     "data": {
      "text/html": [
       "<div>\n",
       "<style scoped>\n",
       "    .dataframe tbody tr th:only-of-type {\n",
       "        vertical-align: middle;\n",
       "    }\n",
       "\n",
       "    .dataframe tbody tr th {\n",
       "        vertical-align: top;\n",
       "    }\n",
       "\n",
       "    .dataframe thead th {\n",
       "        text-align: right;\n",
       "    }\n",
       "</style>\n",
       "<table border=\"1\" class=\"dataframe\">\n",
       "  <thead>\n",
       "    <tr style=\"text-align: right;\">\n",
       "      <th></th>\n",
       "      <th>company</th>\n",
       "      <th>price_rupiah</th>\n",
       "      <th>diameter</th>\n",
       "      <th>topping</th>\n",
       "      <th>variant</th>\n",
       "      <th>size</th>\n",
       "      <th>extra_sauce</th>\n",
       "      <th>extra_cheese</th>\n",
       "      <th>extra_mushrooms</th>\n",
       "    </tr>\n",
       "  </thead>\n",
       "  <tbody>\n",
       "    <tr>\n",
       "      <th>0</th>\n",
       "      <td>A</td>\n",
       "      <td>Rp235,000</td>\n",
       "      <td>22 inch</td>\n",
       "      <td>chicken</td>\n",
       "      <td>double_signature</td>\n",
       "      <td>jumbo</td>\n",
       "      <td>yes</td>\n",
       "      <td>yes</td>\n",
       "      <td>no</td>\n",
       "    </tr>\n",
       "    <tr>\n",
       "      <th>1</th>\n",
       "      <td>A</td>\n",
       "      <td>Rp198,000</td>\n",
       "      <td>20 inch</td>\n",
       "      <td>papperoni</td>\n",
       "      <td>double_signature</td>\n",
       "      <td>jumbo</td>\n",
       "      <td>yes</td>\n",
       "      <td>yes</td>\n",
       "      <td>no</td>\n",
       "    </tr>\n",
       "    <tr>\n",
       "      <th>2</th>\n",
       "      <td>A</td>\n",
       "      <td>Rp120,000</td>\n",
       "      <td>16 inch</td>\n",
       "      <td>mushrooms</td>\n",
       "      <td>double_signature</td>\n",
       "      <td>reguler</td>\n",
       "      <td>yes</td>\n",
       "      <td>yes</td>\n",
       "      <td>yes</td>\n",
       "    </tr>\n",
       "    <tr>\n",
       "      <th>3</th>\n",
       "      <td>A</td>\n",
       "      <td>Rp155,000</td>\n",
       "      <td>14 inch</td>\n",
       "      <td>smoked_beef</td>\n",
       "      <td>double_signature</td>\n",
       "      <td>reguler</td>\n",
       "      <td>yes</td>\n",
       "      <td>no</td>\n",
       "      <td>yes</td>\n",
       "    </tr>\n",
       "    <tr>\n",
       "      <th>4</th>\n",
       "      <td>A</td>\n",
       "      <td>Rp248,000</td>\n",
       "      <td>18 inch</td>\n",
       "      <td>mozzarella</td>\n",
       "      <td>double_signature</td>\n",
       "      <td>jumbo</td>\n",
       "      <td>yes</td>\n",
       "      <td>no</td>\n",
       "      <td>yes</td>\n",
       "    </tr>\n",
       "    <tr>\n",
       "      <th>...</th>\n",
       "      <td>...</td>\n",
       "      <td>...</td>\n",
       "      <td>...</td>\n",
       "      <td>...</td>\n",
       "      <td>...</td>\n",
       "      <td>...</td>\n",
       "      <td>...</td>\n",
       "      <td>...</td>\n",
       "      <td>...</td>\n",
       "    </tr>\n",
       "    <tr>\n",
       "      <th>124</th>\n",
       "      <td>E</td>\n",
       "      <td>Rp39,000</td>\n",
       "      <td>8.5 inch</td>\n",
       "      <td>tuna</td>\n",
       "      <td>spicy tuna</td>\n",
       "      <td>small</td>\n",
       "      <td>yes</td>\n",
       "      <td>yes</td>\n",
       "      <td>yes</td>\n",
       "    </tr>\n",
       "    <tr>\n",
       "      <th>125</th>\n",
       "      <td>E</td>\n",
       "      <td>Rp72,000</td>\n",
       "      <td>12 inch</td>\n",
       "      <td>tuna</td>\n",
       "      <td>spicy tuna</td>\n",
       "      <td>medium</td>\n",
       "      <td>yes</td>\n",
       "      <td>yes</td>\n",
       "      <td>yes</td>\n",
       "    </tr>\n",
       "    <tr>\n",
       "      <th>126</th>\n",
       "      <td>E</td>\n",
       "      <td>Rp99,000</td>\n",
       "      <td>14 inch</td>\n",
       "      <td>tuna</td>\n",
       "      <td>spicy tuna</td>\n",
       "      <td>large</td>\n",
       "      <td>yes</td>\n",
       "      <td>yes</td>\n",
       "      <td>yes</td>\n",
       "    </tr>\n",
       "    <tr>\n",
       "      <th>127</th>\n",
       "      <td>E</td>\n",
       "      <td>Rp44,000</td>\n",
       "      <td>8.5 inch</td>\n",
       "      <td>meat</td>\n",
       "      <td>BBQ_meat_fiesta</td>\n",
       "      <td>small</td>\n",
       "      <td>yes</td>\n",
       "      <td>no</td>\n",
       "      <td>yes</td>\n",
       "    </tr>\n",
       "    <tr>\n",
       "      <th>128</th>\n",
       "      <td>E</td>\n",
       "      <td>Rp78,000</td>\n",
       "      <td>12 inch</td>\n",
       "      <td>meat</td>\n",
       "      <td>BBQ_meat_fiesta</td>\n",
       "      <td>medium</td>\n",
       "      <td>no</td>\n",
       "      <td>no</td>\n",
       "      <td>yes</td>\n",
       "    </tr>\n",
       "  </tbody>\n",
       "</table>\n",
       "<p>129 rows × 9 columns</p>\n",
       "</div>"
      ],
      "text/plain": [
       "    company price_rupiah  diameter      topping           variant     size  \\\n",
       "0         A    Rp235,000   22 inch      chicken  double_signature    jumbo   \n",
       "1         A    Rp198,000   20 inch    papperoni  double_signature    jumbo   \n",
       "2         A    Rp120,000   16 inch    mushrooms  double_signature  reguler   \n",
       "3         A    Rp155,000   14 inch  smoked_beef  double_signature  reguler   \n",
       "4         A    Rp248,000   18 inch   mozzarella  double_signature    jumbo   \n",
       "..      ...          ...       ...          ...               ...      ...   \n",
       "124       E     Rp39,000  8.5 inch         tuna        spicy tuna    small   \n",
       "125       E     Rp72,000   12 inch         tuna        spicy tuna   medium   \n",
       "126       E     Rp99,000   14 inch         tuna        spicy tuna    large   \n",
       "127       E     Rp44,000  8.5 inch         meat   BBQ_meat_fiesta    small   \n",
       "128       E     Rp78,000   12 inch         meat   BBQ_meat_fiesta   medium   \n",
       "\n",
       "    extra_sauce extra_cheese extra_mushrooms  \n",
       "0           yes          yes              no  \n",
       "1           yes          yes              no  \n",
       "2           yes          yes             yes  \n",
       "3           yes           no             yes  \n",
       "4           yes           no             yes  \n",
       "..          ...          ...             ...  \n",
       "124         yes          yes             yes  \n",
       "125         yes          yes             yes  \n",
       "126         yes          yes             yes  \n",
       "127         yes           no             yes  \n",
       "128          no           no             yes  \n",
       "\n",
       "[129 rows x 9 columns]"
      ]
     },
     "execution_count": 2,
     "metadata": {},
     "output_type": "execute_result"
    }
   ],
   "source": [
    "pizza = pd.read_csv('pizza_v2.csv')\n",
    "pizza"
   ]
  },
  {
   "cell_type": "code",
   "execution_count": 3,
   "id": "ffb997d9-7f4b-401b-a1b3-70a5024c9572",
   "metadata": {},
   "outputs": [
    {
     "data": {
      "text/html": [
       "<div>\n",
       "<style scoped>\n",
       "    .dataframe tbody tr th:only-of-type {\n",
       "        vertical-align: middle;\n",
       "    }\n",
       "\n",
       "    .dataframe tbody tr th {\n",
       "        vertical-align: top;\n",
       "    }\n",
       "\n",
       "    .dataframe thead th {\n",
       "        text-align: right;\n",
       "    }\n",
       "</style>\n",
       "<table border=\"1\" class=\"dataframe\">\n",
       "  <thead>\n",
       "    <tr style=\"text-align: right;\">\n",
       "      <th></th>\n",
       "      <th>company</th>\n",
       "      <th>price_rupiah</th>\n",
       "      <th>diameter</th>\n",
       "      <th>topping</th>\n",
       "      <th>variant</th>\n",
       "      <th>size</th>\n",
       "      <th>extra_sauce</th>\n",
       "      <th>extra_cheese</th>\n",
       "      <th>extra_mushrooms</th>\n",
       "    </tr>\n",
       "  </thead>\n",
       "  <tbody>\n",
       "    <tr>\n",
       "      <th>110</th>\n",
       "      <td>E</td>\n",
       "      <td>Rp115,000</td>\n",
       "      <td>17 inch</td>\n",
       "      <td>mozzarella</td>\n",
       "      <td>new_york</td>\n",
       "      <td>XL</td>\n",
       "      <td>no</td>\n",
       "      <td>yes</td>\n",
       "      <td>yes</td>\n",
       "    </tr>\n",
       "    <tr>\n",
       "      <th>122</th>\n",
       "      <td>E</td>\n",
       "      <td>Rp83,000</td>\n",
       "      <td>17 inch</td>\n",
       "      <td>chicken</td>\n",
       "      <td>new_york</td>\n",
       "      <td>XL</td>\n",
       "      <td>no</td>\n",
       "      <td>yes</td>\n",
       "      <td>no</td>\n",
       "    </tr>\n",
       "  </tbody>\n",
       "</table>\n",
       "</div>"
      ],
      "text/plain": [
       "    company price_rupiah diameter     topping   variant size extra_sauce  \\\n",
       "110       E    Rp115,000  17 inch  mozzarella  new_york   XL          no   \n",
       "122       E     Rp83,000  17 inch     chicken  new_york   XL          no   \n",
       "\n",
       "    extra_cheese extra_mushrooms  \n",
       "110          yes             yes  \n",
       "122          yes              no  "
      ]
     },
     "execution_count": 3,
     "metadata": {},
     "output_type": "execute_result"
    }
   ],
   "source": [
    "pizza[pizza.duplicated()]"
   ]
  },
  {
   "cell_type": "code",
   "execution_count": 4,
   "id": "c53a2dac-67b6-4742-9faa-9f16d6fa13ff",
   "metadata": {},
   "outputs": [],
   "source": [
    "pizza.drop_duplicates(inplace = True)"
   ]
  },
  {
   "cell_type": "code",
   "execution_count": 5,
   "id": "66cb8b54-3a0e-4623-99e7-af2a302f7290",
   "metadata": {},
   "outputs": [
    {
     "data": {
      "text/plain": [
       "array(['A', 'B', 'C', 'D', 'E'], dtype=object)"
      ]
     },
     "execution_count": 5,
     "metadata": {},
     "output_type": "execute_result"
    }
   ],
   "source": [
    "pizza['company'].unique()"
   ]
  },
  {
   "cell_type": "code",
   "execution_count": 6,
   "id": "e9b44114-fdd6-41ab-ace0-05d354e5aa4c",
   "metadata": {},
   "outputs": [
    {
     "data": {
      "text/plain": [
       "array(['Rp235,000', 'Rp198,000', 'Rp120,000', 'Rp155,000', 'Rp248,000',\n",
       "       'Rp140,000', 'Rp110,000', 'Rp70,000', 'Rp90,000', 'Rp230,000',\n",
       "       'Rp188,000', 'Rp114,000', 'Rp149,000', 'Rp23,500', 'Rp46,000',\n",
       "       'Rp72,000', 'Rp49,000', 'Rp83,000', 'Rp96,000', 'Rp31,000',\n",
       "       'Rp69,000', 'Rp93,000', 'Rp75,000', 'Rp115,000', 'Rp123,000',\n",
       "       'Rp33,000', 'Rp76,000', 'Rp119,000', 'Rp126,500', 'Rp39,000',\n",
       "       'Rp99,000', 'Rp44,000', 'Rp78,000', 'Rp105,000', 'Rp35,000',\n",
       "       'Rp60,000', 'Rp98,000', 'Rp28,000', 'Rp51,000', 'Rp84,000',\n",
       "       'Rp32,000', 'Rp54,000', 'Rp92,000'], dtype=object)"
      ]
     },
     "execution_count": 6,
     "metadata": {},
     "output_type": "execute_result"
    }
   ],
   "source": [
    "pizza['price_rupiah'].unique()"
   ]
  },
  {
   "cell_type": "code",
   "execution_count": 7,
   "id": "24ad2b9c-2bb6-4dee-9f19-ab0bbd2d83b1",
   "metadata": {},
   "outputs": [
    {
     "data": {
      "text/plain": [
       "array(['22 inch', '20 inch', '16 inch', '14 inch', '18 inch', '18.5 inch',\n",
       "       '8 inch', '12 inch', '16.5 inch', '8.5 inch', '17 inch',\n",
       "       '14 inch\\n'], dtype=object)"
      ]
     },
     "execution_count": 7,
     "metadata": {},
     "output_type": "execute_result"
    }
   ],
   "source": [
    "pizza['diameter'].unique()"
   ]
  },
  {
   "cell_type": "code",
   "execution_count": 8,
   "id": "eb080f52-75e0-4208-8ea5-37827e4273c7",
   "metadata": {},
   "outputs": [
    {
     "data": {
      "text/plain": [
       "array(['chicken', 'papperoni', 'mushrooms', 'smoked_beef', 'mozzarella',\n",
       "       'black_papper', 'tuna', 'meat', 'sausage', 'onion', 'vegetables',\n",
       "       'beef'], dtype=object)"
      ]
     },
     "execution_count": 8,
     "metadata": {},
     "output_type": "execute_result"
    }
   ],
   "source": [
    "pizza['topping'].unique()"
   ]
  },
  {
   "cell_type": "code",
   "execution_count": 9,
   "id": "68fa7e7b-94aa-44f5-9747-70857d0e5a43",
   "metadata": {},
   "outputs": [
    {
     "data": {
      "text/plain": [
       "array(['double_signature', 'american_favorite', 'super_supreme',\n",
       "       'meat_lovers', 'double_mix', 'classic', 'crunchy', 'new_york',\n",
       "       'double_decker', 'spicy_tuna', 'BBQ_meat_fiesta', 'BBQ_sausage',\n",
       "       'extravaganza', 'meat_eater', 'gournet_greek', 'italian_veggie',\n",
       "       'thai_veggie', 'american_classic', 'neptune_tuna', 'spicy tuna'],\n",
       "      dtype=object)"
      ]
     },
     "execution_count": 9,
     "metadata": {},
     "output_type": "execute_result"
    }
   ],
   "source": [
    "pizza['variant'].unique()"
   ]
  },
  {
   "cell_type": "code",
   "execution_count": 10,
   "id": "f25ca1a2-6091-434a-9ff2-f3636052b2c8",
   "metadata": {},
   "outputs": [
    {
     "data": {
      "text/plain": [
       "array(['jumbo', 'reguler', 'small', 'medium', 'large', 'XL'], dtype=object)"
      ]
     },
     "execution_count": 10,
     "metadata": {},
     "output_type": "execute_result"
    }
   ],
   "source": [
    "pizza['size'].unique()"
   ]
  },
  {
   "cell_type": "code",
   "execution_count": 13,
   "id": "89594618-6ba9-4644-b079-052a0709ac03",
   "metadata": {},
   "outputs": [],
   "source": [
    "# pizza[['diameter', 'size']].corr()"
   ]
  },
  {
   "cell_type": "code",
   "execution_count": 14,
   "id": "2ea38922-aad0-4ff0-b99e-3e9251c20ec6",
   "metadata": {},
   "outputs": [
    {
     "data": {
      "text/plain": [
       "<Axes: xlabel='diameter', ylabel='size'>"
      ]
     },
     "execution_count": 14,
     "metadata": {},
     "output_type": "execute_result"
    },
    {
     "data": {
      "image/png": "[encoded data removed]",
      "text/plain": [
       "<Figure size 640x480 with 1 Axes>"
      ]
     },
     "metadata": {},
     "output_type": "display_data"
    }
   ],
   "source": [
    "sns.scatterplot(x=pizza['diameter'], y=pizza['size'])"
   ]
  },
  {
   "cell_type": "code",
   "execution_count": 15,
   "id": "0ae55a2f-027a-4a87-9a66-166420a8b095",
   "metadata": {},
   "outputs": [
    {
     "data": {
      "text/plain": [
       "array(['yes', 'no'], dtype=object)"
      ]
     },
     "execution_count": 15,
     "metadata": {},
     "output_type": "execute_result"
    }
   ],
   "source": [
    "pizza['extra_sauce'].unique()"
   ]
  },
  {
   "cell_type": "code",
   "execution_count": 16,
   "id": "b93aaf2b-e93e-440c-be56-1d87db0bae07",
   "metadata": {},
   "outputs": [
    {
     "data": {
      "text/plain": [
       "array(['yes', 'no'], dtype=object)"
      ]
     },
     "execution_count": 16,
     "metadata": {},
     "output_type": "execute_result"
    }
   ],
   "source": [
    "pizza['extra_cheese'].unique()"
   ]
  },
  {
   "cell_type": "code",
   "execution_count": 17,
   "id": "a2739f04-8b98-4629-b420-b409935f7c72",
   "metadata": {},
   "outputs": [
    {
     "data": {
      "text/plain": [
       "array(['no', 'yes'], dtype=object)"
      ]
     },
     "execution_count": 17,
     "metadata": {},
     "output_type": "execute_result"
    }
   ],
   "source": [
    "pizza['extra_mushrooms'].unique()"
   ]
  },
  {
   "cell_type": "markdown",
   "id": "05e8d890-cdf4-4517-ad99-965a0c5ddddd",
   "metadata": {},
   "source": [
    "# data cleaning"
   ]
  },
  {
   "cell_type": "code",
   "execution_count": 18,
   "id": "6fa38d74-83b1-4dd6-817e-4ef1298f98c9",
   "metadata": {},
   "outputs": [],
   "source": [
    "pizza['price_rupiah'] = pizza['price_rupiah'].str.replace('Rp', '').str.replace(',', '').str.strip().astype('float64')"
   ]
  },
  {
   "cell_type": "code",
   "execution_count": 19,
   "id": "e9207455-808c-41bf-b964-9baae2ab40d8",
   "metadata": {},
   "outputs": [],
   "source": [
    "pizza['diameter'] = pizza['diameter'].str.replace('inch', '').str.strip().astype('float64')"
   ]
  },
  {
   "cell_type": "code",
   "execution_count": 20,
   "id": "5f7b24af-4030-4d0a-a048-244a336371f5",
   "metadata": {},
   "outputs": [
    {
     "data": {
      "text/html": [
       "<div>\n",
       "<style scoped>\n",
       "    .dataframe tbody tr th:only-of-type {\n",
       "        vertical-align: middle;\n",
       "    }\n",
       "\n",
       "    .dataframe tbody tr th {\n",
       "        vertical-align: top;\n",
       "    }\n",
       "\n",
       "    .dataframe thead th {\n",
       "        text-align: right;\n",
       "    }\n",
       "</style>\n",
       "<table border=\"1\" class=\"dataframe\">\n",
       "  <thead>\n",
       "    <tr style=\"text-align: right;\">\n",
       "      <th></th>\n",
       "      <th>company</th>\n",
       "      <th>price_rupiah</th>\n",
       "      <th>diameter</th>\n",
       "      <th>topping</th>\n",
       "      <th>variant</th>\n",
       "      <th>size</th>\n",
       "      <th>extra_sauce</th>\n",
       "      <th>extra_cheese</th>\n",
       "      <th>extra_mushrooms</th>\n",
       "    </tr>\n",
       "  </thead>\n",
       "  <tbody>\n",
       "    <tr>\n",
       "      <th>0</th>\n",
       "      <td>A</td>\n",
       "      <td>235000.0</td>\n",
       "      <td>22.0</td>\n",
       "      <td>chicken</td>\n",
       "      <td>double_signature</td>\n",
       "      <td>jumbo</td>\n",
       "      <td>yes</td>\n",
       "      <td>yes</td>\n",
       "      <td>no</td>\n",
       "    </tr>\n",
       "    <tr>\n",
       "      <th>1</th>\n",
       "      <td>A</td>\n",
       "      <td>198000.0</td>\n",
       "      <td>20.0</td>\n",
       "      <td>papperoni</td>\n",
       "      <td>double_signature</td>\n",
       "      <td>jumbo</td>\n",
       "      <td>yes</td>\n",
       "      <td>yes</td>\n",
       "      <td>no</td>\n",
       "    </tr>\n",
       "    <tr>\n",
       "      <th>2</th>\n",
       "      <td>A</td>\n",
       "      <td>120000.0</td>\n",
       "      <td>16.0</td>\n",
       "      <td>mushrooms</td>\n",
       "      <td>double_signature</td>\n",
       "      <td>reguler</td>\n",
       "      <td>yes</td>\n",
       "      <td>yes</td>\n",
       "      <td>yes</td>\n",
       "    </tr>\n",
       "    <tr>\n",
       "      <th>3</th>\n",
       "      <td>A</td>\n",
       "      <td>155000.0</td>\n",
       "      <td>14.0</td>\n",
       "      <td>smoked_beef</td>\n",
       "      <td>double_signature</td>\n",
       "      <td>reguler</td>\n",
       "      <td>yes</td>\n",
       "      <td>no</td>\n",
       "      <td>yes</td>\n",
       "    </tr>\n",
       "    <tr>\n",
       "      <th>4</th>\n",
       "      <td>A</td>\n",
       "      <td>248000.0</td>\n",
       "      <td>18.0</td>\n",
       "      <td>mozzarella</td>\n",
       "      <td>double_signature</td>\n",
       "      <td>jumbo</td>\n",
       "      <td>yes</td>\n",
       "      <td>no</td>\n",
       "      <td>yes</td>\n",
       "    </tr>\n",
       "    <tr>\n",
       "      <th>...</th>\n",
       "      <td>...</td>\n",
       "      <td>...</td>\n",
       "      <td>...</td>\n",
       "      <td>...</td>\n",
       "      <td>...</td>\n",
       "      <td>...</td>\n",
       "      <td>...</td>\n",
       "      <td>...</td>\n",
       "      <td>...</td>\n",
       "    </tr>\n",
       "    <tr>\n",
       "      <th>124</th>\n",
       "      <td>E</td>\n",
       "      <td>39000.0</td>\n",
       "      <td>8.5</td>\n",
       "      <td>tuna</td>\n",
       "      <td>spicy tuna</td>\n",
       "      <td>small</td>\n",
       "      <td>yes</td>\n",
       "      <td>yes</td>\n",
       "      <td>yes</td>\n",
       "    </tr>\n",
       "    <tr>\n",
       "      <th>125</th>\n",
       "      <td>E</td>\n",
       "      <td>72000.0</td>\n",
       "      <td>12.0</td>\n",
       "      <td>tuna</td>\n",
       "      <td>spicy tuna</td>\n",
       "      <td>medium</td>\n",
       "      <td>yes</td>\n",
       "      <td>yes</td>\n",
       "      <td>yes</td>\n",
       "    </tr>\n",
       "    <tr>\n",
       "      <th>126</th>\n",
       "      <td>E</td>\n",
       "      <td>99000.0</td>\n",
       "      <td>14.0</td>\n",
       "      <td>tuna</td>\n",
       "      <td>spicy tuna</td>\n",
       "      <td>large</td>\n",
       "      <td>yes</td>\n",
       "      <td>yes</td>\n",
       "      <td>yes</td>\n",
       "    </tr>\n",
       "    <tr>\n",
       "      <th>127</th>\n",
       "      <td>E</td>\n",
       "      <td>44000.0</td>\n",
       "      <td>8.5</td>\n",
       "      <td>meat</td>\n",
       "      <td>BBQ_meat_fiesta</td>\n",
       "      <td>small</td>\n",
       "      <td>yes</td>\n",
       "      <td>no</td>\n",
       "      <td>yes</td>\n",
       "    </tr>\n",
       "    <tr>\n",
       "      <th>128</th>\n",
       "      <td>E</td>\n",
       "      <td>78000.0</td>\n",
       "      <td>12.0</td>\n",
       "      <td>meat</td>\n",
       "      <td>BBQ_meat_fiesta</td>\n",
       "      <td>medium</td>\n",
       "      <td>no</td>\n",
       "      <td>no</td>\n",
       "      <td>yes</td>\n",
       "    </tr>\n",
       "  </tbody>\n",
       "</table>\n",
       "<p>127 rows × 9 columns</p>\n",
       "</div>"
      ],
      "text/plain": [
       "    company  price_rupiah  diameter      topping           variant     size  \\\n",
       "0         A      235000.0      22.0      chicken  double_signature    jumbo   \n",
       "1         A      198000.0      20.0    papperoni  double_signature    jumbo   \n",
       "2         A      120000.0      16.0    mushrooms  double_signature  reguler   \n",
       "3         A      155000.0      14.0  smoked_beef  double_signature  reguler   \n",
       "4         A      248000.0      18.0   mozzarella  double_signature    jumbo   \n",
       "..      ...           ...       ...          ...               ...      ...   \n",
       "124       E       39000.0       8.5         tuna        spicy tuna    small   \n",
       "125       E       72000.0      12.0         tuna        spicy tuna   medium   \n",
       "126       E       99000.0      14.0         tuna        spicy tuna    large   \n",
       "127       E       44000.0       8.5         meat   BBQ_meat_fiesta    small   \n",
       "128       E       78000.0      12.0         meat   BBQ_meat_fiesta   medium   \n",
       "\n",
       "    extra_sauce extra_cheese extra_mushrooms  \n",
       "0           yes          yes              no  \n",
       "1           yes          yes              no  \n",
       "2           yes          yes             yes  \n",
       "3           yes           no             yes  \n",
       "4           yes           no             yes  \n",
       "..          ...          ...             ...  \n",
       "124         yes          yes             yes  \n",
       "125         yes          yes             yes  \n",
       "126         yes          yes             yes  \n",
       "127         yes           no             yes  \n",
       "128          no           no             yes  \n",
       "\n",
       "[127 rows x 9 columns]"
      ]
     },
     "execution_count": 20,
     "metadata": {},
     "output_type": "execute_result"
    }
   ],
   "source": [
    "pizza"
   ]
  },
  {
   "cell_type": "code",
   "execution_count": 21,
   "id": "f95681c0-1b10-499e-bdd1-ee13320d2b7c",
   "metadata": {},
   "outputs": [
    {
     "name": "stdout",
     "output_type": "stream",
     "text": [
      "<class 'pandas.core.frame.DataFrame'>\n",
      "Index: 127 entries, 0 to 128\n",
      "Data columns (total 9 columns):\n",
      " #   Column           Non-Null Count  Dtype  \n",
      "---  ------           --------------  -----  \n",
      " 0   company          127 non-null    object \n",
      " 1   price_rupiah     127 non-null    float64\n",
      " 2   diameter         127 non-null    float64\n",
      " 3   topping          127 non-null    object \n",
      " 4   variant          127 non-null    object \n",
      " 5   size             127 non-null    object \n",
      " 6   extra_sauce      127 non-null    object \n",
      " 7   extra_cheese     127 non-null    object \n",
      " 8   extra_mushrooms  127 non-null    object \n",
      "dtypes: float64(2), object(7)\n",
      "memory usage: 9.9+ KB\n"
     ]
    }
   ],
   "source": [
    "pizza.info()"
   ]
  },
  {
   "cell_type": "markdown",
   "id": "3a0d0ff6-b4ca-475a-ab53-be6b7907995f",
   "metadata": {},
   "source": [
    "# converting binary columns"
   ]
  },
  {
   "cell_type": "code",
   "execution_count": 24,
   "id": "359a9da1-56a7-481c-b50f-b9616c569113",
   "metadata": {},
   "outputs": [
    {
     "data": {
      "text/plain": [
       "['extra_sauce', 'extra_cheese', 'extra_mushrooms']"
      ]
     },
     "execution_count": 24,
     "metadata": {},
     "output_type": "execute_result"
    }
   ],
   "source": [
    "binaryCol = []\n",
    "for col in pizza.columns:\n",
    "    if pizza[col].nunique() == 2:\n",
    "        binaryCol.append(col)\n",
    "binaryCol"
   ]
  },
  {
   "cell_type": "code",
   "execution_count": 34,
   "id": "dd0d3462-3d21-4d4d-8ee3-18d2bb94d417",
   "metadata": {},
   "outputs": [],
   "source": [
    "for col in binaryCol:\n",
    "    pizza[col].map({'yes':1, 'no':0})"
   ]
  },
  {
   "cell_type": "code",
   "execution_count": 35,
   "id": "e9027fb2-aaee-4317-834c-5f9f1854c101",
   "metadata": {},
   "outputs": [
    {
     "data": {
      "text/plain": [
       "['company', 'topping', 'variant', 'size']"
      ]
     },
     "execution_count": 35,
     "metadata": {},
     "output_type": "execute_result"
    }
   ],
   "source": [
    "cateCol = []\n",
    "for col in pizza.columns:\n",
    "    if (pizza[col].nunique()  > 2) & (pizza[col].dtypes == 'O'):\n",
    "        cateCol.append(col)\n",
    "cateCol"
   ]
  },
  {
   "cell_type": "code",
   "execution_count": 36,
   "id": "be278d86-6cb3-4233-96db-dcdfc8baf21a",
   "metadata": {},
   "outputs": [],
   "source": [
    "pizza_encoded = pd.get_dummies(pizza, columns = cateCol, drop_first = True, dtype = 'int64')"
   ]
  },
  {
   "cell_type": "code",
   "execution_count": 37,
   "id": "3cefcb69-0c0c-4a68-bc14-0a7bb29898b6",
   "metadata": {},
   "outputs": [
    {
     "data": {
      "text/html": [
       "<div>\n",
       "<style scoped>\n",
       "    .dataframe tbody tr th:only-of-type {\n",
       "        vertical-align: middle;\n",
       "    }\n",
       "\n",
       "    .dataframe tbody tr th {\n",
       "        vertical-align: top;\n",
       "    }\n",
       "\n",
       "    .dataframe thead th {\n",
       "        text-align: right;\n",
       "    }\n",
       "</style>\n",
       "<table border=\"1\" class=\"dataframe\">\n",
       "  <thead>\n",
       "    <tr style=\"text-align: right;\">\n",
       "      <th></th>\n",
       "      <th>price_rupiah</th>\n",
       "      <th>diameter</th>\n",
       "      <th>extra_sauce</th>\n",
       "      <th>extra_cheese</th>\n",
       "      <th>extra_mushrooms</th>\n",
       "      <th>company_B</th>\n",
       "      <th>company_C</th>\n",
       "      <th>company_D</th>\n",
       "      <th>company_E</th>\n",
       "      <th>topping_black_papper</th>\n",
       "      <th>...</th>\n",
       "      <th>variant_new_york</th>\n",
       "      <th>variant_spicy tuna</th>\n",
       "      <th>variant_spicy_tuna</th>\n",
       "      <th>variant_super_supreme</th>\n",
       "      <th>variant_thai_veggie</th>\n",
       "      <th>size_jumbo</th>\n",
       "      <th>size_large</th>\n",
       "      <th>size_medium</th>\n",
       "      <th>size_reguler</th>\n",
       "      <th>size_small</th>\n",
       "    </tr>\n",
       "  </thead>\n",
       "  <tbody>\n",
       "    <tr>\n",
       "      <th>0</th>\n",
       "      <td>235000.0</td>\n",
       "      <td>22.0</td>\n",
       "      <td>yes</td>\n",
       "      <td>yes</td>\n",
       "      <td>no</td>\n",
       "      <td>0</td>\n",
       "      <td>0</td>\n",
       "      <td>0</td>\n",
       "      <td>0</td>\n",
       "      <td>0</td>\n",
       "      <td>...</td>\n",
       "      <td>0</td>\n",
       "      <td>0</td>\n",
       "      <td>0</td>\n",
       "      <td>0</td>\n",
       "      <td>0</td>\n",
       "      <td>1</td>\n",
       "      <td>0</td>\n",
       "      <td>0</td>\n",
       "      <td>0</td>\n",
       "      <td>0</td>\n",
       "    </tr>\n",
       "    <tr>\n",
       "      <th>1</th>\n",
       "      <td>198000.0</td>\n",
       "      <td>20.0</td>\n",
       "      <td>yes</td>\n",
       "      <td>yes</td>\n",
       "      <td>no</td>\n",
       "      <td>0</td>\n",
       "      <td>0</td>\n",
       "      <td>0</td>\n",
       "      <td>0</td>\n",
       "      <td>0</td>\n",
       "      <td>...</td>\n",
       "      <td>0</td>\n",
       "      <td>0</td>\n",
       "      <td>0</td>\n",
       "      <td>0</td>\n",
       "      <td>0</td>\n",
       "      <td>1</td>\n",
       "      <td>0</td>\n",
       "      <td>0</td>\n",
       "      <td>0</td>\n",
       "      <td>0</td>\n",
       "    </tr>\n",
       "    <tr>\n",
       "      <th>2</th>\n",
       "      <td>120000.0</td>\n",
       "      <td>16.0</td>\n",
       "      <td>yes</td>\n",
       "      <td>yes</td>\n",
       "      <td>yes</td>\n",
       "      <td>0</td>\n",
       "      <td>0</td>\n",
       "      <td>0</td>\n",
       "      <td>0</td>\n",
       "      <td>0</td>\n",
       "      <td>...</td>\n",
       "      <td>0</td>\n",
       "      <td>0</td>\n",
       "      <td>0</td>\n",
       "      <td>0</td>\n",
       "      <td>0</td>\n",
       "      <td>0</td>\n",
       "      <td>0</td>\n",
       "      <td>0</td>\n",
       "      <td>1</td>\n",
       "      <td>0</td>\n",
       "    </tr>\n",
       "    <tr>\n",
       "      <th>3</th>\n",
       "      <td>155000.0</td>\n",
       "      <td>14.0</td>\n",
       "      <td>yes</td>\n",
       "      <td>no</td>\n",
       "      <td>yes</td>\n",
       "      <td>0</td>\n",
       "      <td>0</td>\n",
       "      <td>0</td>\n",
       "      <td>0</td>\n",
       "      <td>0</td>\n",
       "      <td>...</td>\n",
       "      <td>0</td>\n",
       "      <td>0</td>\n",
       "      <td>0</td>\n",
       "      <td>0</td>\n",
       "      <td>0</td>\n",
       "      <td>0</td>\n",
       "      <td>0</td>\n",
       "      <td>0</td>\n",
       "      <td>1</td>\n",
       "      <td>0</td>\n",
       "    </tr>\n",
       "    <tr>\n",
       "      <th>4</th>\n",
       "      <td>248000.0</td>\n",
       "      <td>18.0</td>\n",
       "      <td>yes</td>\n",
       "      <td>no</td>\n",
       "      <td>yes</td>\n",
       "      <td>0</td>\n",
       "      <td>0</td>\n",
       "      <td>0</td>\n",
       "      <td>0</td>\n",
       "      <td>0</td>\n",
       "      <td>...</td>\n",
       "      <td>0</td>\n",
       "      <td>0</td>\n",
       "      <td>0</td>\n",
       "      <td>0</td>\n",
       "      <td>0</td>\n",
       "      <td>1</td>\n",
       "      <td>0</td>\n",
       "      <td>0</td>\n",
       "      <td>0</td>\n",
       "      <td>0</td>\n",
       "    </tr>\n",
       "    <tr>\n",
       "      <th>...</th>\n",
       "      <td>...</td>\n",
       "      <td>...</td>\n",
       "      <td>...</td>\n",
       "      <td>...</td>\n",
       "      <td>...</td>\n",
       "      <td>...</td>\n",
       "      <td>...</td>\n",
       "      <td>...</td>\n",
       "      <td>...</td>\n",
       "      <td>...</td>\n",
       "      <td>...</td>\n",
       "      <td>...</td>\n",
       "      <td>...</td>\n",
       "      <td>...</td>\n",
       "      <td>...</td>\n",
       "      <td>...</td>\n",
       "      <td>...</td>\n",
       "      <td>...</td>\n",
       "      <td>...</td>\n",
       "      <td>...</td>\n",
       "      <td>...</td>\n",
       "    </tr>\n",
       "    <tr>\n",
       "      <th>124</th>\n",
       "      <td>39000.0</td>\n",
       "      <td>8.5</td>\n",
       "      <td>yes</td>\n",
       "      <td>yes</td>\n",
       "      <td>yes</td>\n",
       "      <td>0</td>\n",
       "      <td>0</td>\n",
       "      <td>0</td>\n",
       "      <td>1</td>\n",
       "      <td>0</td>\n",
       "      <td>...</td>\n",
       "      <td>0</td>\n",
       "      <td>1</td>\n",
       "      <td>0</td>\n",
       "      <td>0</td>\n",
       "      <td>0</td>\n",
       "      <td>0</td>\n",
       "      <td>0</td>\n",
       "      <td>0</td>\n",
       "      <td>0</td>\n",
       "      <td>1</td>\n",
       "    </tr>\n",
       "    <tr>\n",
       "      <th>125</th>\n",
       "      <td>72000.0</td>\n",
       "      <td>12.0</td>\n",
       "      <td>yes</td>\n",
       "      <td>yes</td>\n",
       "      <td>yes</td>\n",
       "      <td>0</td>\n",
       "      <td>0</td>\n",
       "      <td>0</td>\n",
       "      <td>1</td>\n",
       "      <td>0</td>\n",
       "      <td>...</td>\n",
       "      <td>0</td>\n",
       "      <td>1</td>\n",
       "      <td>0</td>\n",
       "      <td>0</td>\n",
       "      <td>0</td>\n",
       "      <td>0</td>\n",
       "      <td>0</td>\n",
       "      <td>1</td>\n",
       "      <td>0</td>\n",
       "      <td>0</td>\n",
       "    </tr>\n",
       "    <tr>\n",
       "      <th>126</th>\n",
       "      <td>99000.0</td>\n",
       "      <td>14.0</td>\n",
       "      <td>yes</td>\n",
       "      <td>yes</td>\n",
       "      <td>yes</td>\n",
       "      <td>0</td>\n",
       "      <td>0</td>\n",
       "      <td>0</td>\n",
       "      <td>1</td>\n",
       "      <td>0</td>\n",
       "      <td>...</td>\n",
       "      <td>0</td>\n",
       "      <td>1</td>\n",
       "      <td>0</td>\n",
       "      <td>0</td>\n",
       "      <td>0</td>\n",
       "      <td>0</td>\n",
       "      <td>1</td>\n",
       "      <td>0</td>\n",
       "      <td>0</td>\n",
       "      <td>0</td>\n",
       "    </tr>\n",
       "    <tr>\n",
       "      <th>127</th>\n",
       "      <td>44000.0</td>\n",
       "      <td>8.5</td>\n",
       "      <td>yes</td>\n",
       "      <td>no</td>\n",
       "      <td>yes</td>\n",
       "      <td>0</td>\n",
       "      <td>0</td>\n",
       "      <td>0</td>\n",
       "      <td>1</td>\n",
       "      <td>0</td>\n",
       "      <td>...</td>\n",
       "      <td>0</td>\n",
       "      <td>0</td>\n",
       "      <td>0</td>\n",
       "      <td>0</td>\n",
       "      <td>0</td>\n",
       "      <td>0</td>\n",
       "      <td>0</td>\n",
       "      <td>0</td>\n",
       "      <td>0</td>\n",
       "      <td>1</td>\n",
       "    </tr>\n",
       "    <tr>\n",
       "      <th>128</th>\n",
       "      <td>78000.0</td>\n",
       "      <td>12.0</td>\n",
       "      <td>no</td>\n",
       "      <td>no</td>\n",
       "      <td>yes</td>\n",
       "      <td>0</td>\n",
       "      <td>0</td>\n",
       "      <td>0</td>\n",
       "      <td>1</td>\n",
       "      <td>0</td>\n",
       "      <td>...</td>\n",
       "      <td>0</td>\n",
       "      <td>0</td>\n",
       "      <td>0</td>\n",
       "      <td>0</td>\n",
       "      <td>0</td>\n",
       "      <td>0</td>\n",
       "      <td>0</td>\n",
       "      <td>1</td>\n",
       "      <td>0</td>\n",
       "      <td>0</td>\n",
       "    </tr>\n",
       "  </tbody>\n",
       "</table>\n",
       "<p>127 rows × 44 columns</p>\n",
       "</div>"
      ],
      "text/plain": [
       "     price_rupiah  diameter extra_sauce extra_cheese extra_mushrooms  \\\n",
       "0        235000.0      22.0         yes          yes              no   \n",
       "1        198000.0      20.0         yes          yes              no   \n",
       "2        120000.0      16.0         yes          yes             yes   \n",
       "3        155000.0      14.0         yes           no             yes   \n",
       "4        248000.0      18.0         yes           no             yes   \n",
       "..            ...       ...         ...          ...             ...   \n",
       "124       39000.0       8.5         yes          yes             yes   \n",
       "125       72000.0      12.0         yes          yes             yes   \n",
       "126       99000.0      14.0         yes          yes             yes   \n",
       "127       44000.0       8.5         yes           no             yes   \n",
       "128       78000.0      12.0          no           no             yes   \n",
       "\n",
       "     company_B  company_C  company_D  company_E  topping_black_papper  ...  \\\n",
       "0            0          0          0          0                     0  ...   \n",
       "1            0          0          0          0                     0  ...   \n",
       "2            0          0          0          0                     0  ...   \n",
       "3            0          0          0          0                     0  ...   \n",
       "4            0          0          0          0                     0  ...   \n",
       "..         ...        ...        ...        ...                   ...  ...   \n",
       "124          0          0          0          1                     0  ...   \n",
       "125          0          0          0          1                     0  ...   \n",
       "126          0          0          0          1                     0  ...   \n",
       "127          0          0          0          1                     0  ...   \n",
       "128          0          0          0          1                     0  ...   \n",
       "\n",
       "     variant_new_york  variant_spicy tuna  variant_spicy_tuna  \\\n",
       "0                   0                   0                   0   \n",
       "1                   0                   0                   0   \n",
       "2                   0                   0                   0   \n",
       "3                   0                   0                   0   \n",
       "4                   0                   0                   0   \n",
       "..                ...                 ...                 ...   \n",
       "124                 0                   1                   0   \n",
       "125                 0                   1                   0   \n",
       "126                 0                   1                   0   \n",
       "127                 0                   0                   0   \n",
       "128                 0                   0                   0   \n",
       "\n",
       "     variant_super_supreme  variant_thai_veggie  size_jumbo  size_large  \\\n",
       "0                        0                    0           1           0   \n",
       "1                        0                    0           1           0   \n",
       "2                        0                    0           0           0   \n",
       "3                        0                    0           0           0   \n",
       "4                        0                    0           1           0   \n",
       "..                     ...                  ...         ...         ...   \n",
       "124                      0                    0           0           0   \n",
       "125                      0                    0           0           0   \n",
       "126                      0                    0           0           1   \n",
       "127                      0                    0           0           0   \n",
       "128                      0                    0           0           0   \n",
       "\n",
       "     size_medium  size_reguler  size_small  \n",
       "0              0             0           0  \n",
       "1              0             0           0  \n",
       "2              0             1           0  \n",
       "3              0             1           0  \n",
       "4              0             0           0  \n",
       "..           ...           ...         ...  \n",
       "124            0             0           1  \n",
       "125            1             0           0  \n",
       "126            0             0           0  \n",
       "127            0             0           1  \n",
       "128            1             0           0  \n",
       "\n",
       "[127 rows x 44 columns]"
      ]
     },
     "execution_count": 37,
     "metadata": {},
     "output_type": "execute_result"
    }
   ],
   "source": [
    "pizza_encoded"
   ]
  },
  {
   "cell_type": "markdown",
   "id": "ed4e21c0-d99a-42ab-812b-18c9d5295d80",
   "metadata": {},
   "source": [
    "# feature scaling"
   ]
  },
  {
   "cell_type": "code",
   "execution_count": 39,
   "id": "150882e2-5049-4abc-88de-3c4a9dddf73a",
   "metadata": {},
   "outputs": [],
   "source": [
    "from sklearn.preprocessing import StandardScaler"
   ]
  },
  {
   "cell_type": "code",
   "execution_count": null,
   "id": "d8cd77a2-6d27-45ce-a01b-2a9bba80ca81",
   "metadata": {},
   "outputs": [],
   "source": [
    "scaler = StandardScaler()"
   ]
  },
  {
   "cell_type": "code",
   "execution_count": null,
   "id": "88ad4a79-15af-4f9d-a374-100c620791cd",
   "metadata": {},
   "outputs": [],
   "source": []
  },
  {
   "cell_type": "code",
   "execution_count": null,
   "id": "f1c6fcd2-926b-45d9-a9d2-9094d271292f",
   "metadata": {},
   "outputs": [],
   "source": []
  },
  {
   "cell_type": "code",
   "execution_count": null,
   "id": "e0d2ef2f-f5c7-4780-ab3c-131d51148200",
   "metadata": {},
   "outputs": [],
   "source": [
    "cat_cols = pizza.select_dtypes(include='object').columns\n",
    "cat_cols"
   ]
  },
  {
   "cell_type": "code",
   "execution_count": null,
   "id": "991d7f07-4d02-4331-84a0-f00d8d3f3c3d",
   "metadata": {},
   "outputs": [],
   "source": [
    "# label_encoder = LabelEncoder()"
   ]
  },
  {
   "cell_type": "code",
   "execution_count": null,
   "id": "6745e256-26e1-47c7-802a-4c95e59948ac",
   "metadata": {},
   "outputs": [],
   "source": [
    "for col in cat_cols:\n",
    "    pizza[col] = label_encoder.fit_transform(pizza[col])"
   ]
  },
  {
   "cell_type": "code",
   "execution_count": null,
   "id": "c0e89795-7895-4b4e-846e-88049eeaed5c",
   "metadata": {},
   "outputs": [],
   "source": [
    "pizza"
   ]
  },
  {
   "cell_type": "markdown",
   "id": "335862c5-ab6a-4e15-aae3-e60ae3bd13aa",
   "metadata": {},
   "source": [
    "# save label encoder object"
   ]
  },
  {
   "cell_type": "code",
   "execution_count": null,
   "id": "a50be85b-85cd-4211-9e16-90a6eacbd152",
   "metadata": {},
   "outputs": [],
   "source": [
    "import joblib"
   ]
  },
  {
   "cell_type": "code",
   "execution_count": null,
   "id": "0035dac6-a410-4a26-9b80-e0ab35569402",
   "metadata": {},
   "outputs": [],
   "source": [
    "joblib.dump(label_encoder, 'pizza_encoder')"
   ]
  },
  {
   "cell_type": "markdown",
   "id": "f4eda794-46fb-43f6-8576-9a75e1f076ee",
   "metadata": {},
   "source": [
    "# split the data into X and y."
   ]
  },
  {
   "cell_type": "code",
   "execution_count": null,
   "id": "61033476-f098-479a-9be7-4ebd83a66c05",
   "metadata": {},
   "outputs": [],
   "source": [
    "X = pizza.drop(columns = 'price_rupiah')\n",
    "y = pizza['price_rupiah']"
   ]
  },
  {
   "cell_type": "markdown",
   "id": "e9b3316e-34c5-49a9-88e5-b41eb85b1142",
   "metadata": {},
   "source": [
    "# split dataset into train and test set"
   ]
  },
  {
   "cell_type": "code",
   "execution_count": null,
   "id": "125d7ac7-1f07-4c18-8815-086929ad5d10",
   "metadata": {},
   "outputs": [],
   "source": [
    "from sklearn.model_selection import train_test_split"
   ]
  },
  {
   "cell_type": "code",
   "execution_count": null,
   "id": "cec1972b-3c02-4ad2-9df3-7850ed848bfb",
   "metadata": {},
   "outputs": [],
   "source": [
    "X_train, X_test, y_train, y_test = train_test_split(X, y, test_size=0.2, random_state= 42)"
   ]
  },
  {
   "cell_type": "code",
   "execution_count": null,
   "id": "00e5139e-aae7-4f5f-a380-dc00f5f4a770",
   "metadata": {},
   "outputs": [],
   "source": [
    "X_train"
   ]
  },
  {
   "cell_type": "markdown",
   "id": "a3426534-5ea4-4bea-8970-dd01fd1d450e",
   "metadata": {},
   "source": [
    "# importing models "
   ]
  },
  {
   "cell_type": "code",
   "execution_count": null,
   "id": "a4c39169-c654-4233-b2e2-adb22c22f38d",
   "metadata": {},
   "outputs": [],
   "source": [
    "from sklearn.linear_model import LinearRegression\n",
    "from sklearn.svm import SVR\n",
    "from sklearn.ensemble import RandomForestRegressor\n",
    "from sklearn.ensemble import GradientBoostingRegressor\n",
    "from sklearn.tree import DecisionTreeRegressor"
   ]
  },
  {
   "cell_type": "code",
   "execution_count": null,
   "id": "5a4b8668-8af9-4be9-bc7a-bd1509970a25",
   "metadata": {},
   "outputs": [],
   "source": [
    "# creating objects\n",
    "lrg = LinearRegression()\n",
    "svr = SVR()\n",
    "rfr = RandomForestRegressor()\n",
    "gbr = GradientBoostingRegressor()\n",
    "dtr = DecisionTreeRegressor()"
   ]
  },
  {
   "cell_type": "markdown",
   "id": "41db033a-f84a-45a7-a717-ff1856d38387",
   "metadata": {},
   "source": [
    "# Train models/ fit"
   ]
  },
  {
   "cell_type": "code",
   "execution_count": null,
   "id": "91e1964c-22f4-4966-977c-2f9d751ba8e4",
   "metadata": {},
   "outputs": [],
   "source": [
    "lrg.fit(X_train, y_train)\n",
    "svr.fit(X_train, y_train)\n",
    "rfr.fit(X_train, y_train)\n",
    "gbr.fit(X_train, y_train)\n",
    "dtr.fit(X_train, y_train)"
   ]
  },
  {
   "cell_type": "code",
   "execution_count": null,
   "id": "f926edea-5f4e-4746-b4f0-31546da48ca5",
   "metadata": {},
   "outputs": [],
   "source": [
    "# Prediction on test data"
   ]
  },
  {
   "cell_type": "code",
   "execution_count": null,
   "id": "3285a187-6828-4b34-a6e6-4dc5b8966d9b",
   "metadata": {},
   "outputs": [],
   "source": [
    "predict_lrg = lrg.predict(X_test)\n",
    "predict_svr = svr.predict(X_test)\n",
    "predict_rfr = rfr.predict(X_test)\n",
    "predict_gbr = gbr.predict(X_test)\n",
    "predict_dtr = dtr.predict(X_test)"
   ]
  },
  {
   "cell_type": "code",
   "execution_count": null,
   "id": "6e1e041a-c0f4-41f4-8050-02feae35e274",
   "metadata": {},
   "outputs": [],
   "source": [
    "pd.DataFrame(\n",
    "    {\n",
    "        \"Actual\": y_test,\n",
    "        \"lrg\": predict_lrg, \n",
    "        \"svr\": predict_svr,\n",
    "        \"rfr\" : predict_rfr, \n",
    "        \"gbr\": predict_gbr, \n",
    "        \"dtr\": predict_dtr\n",
    "    }\n",
    ")"
   ]
  },
  {
   "cell_type": "markdown",
   "id": "e8fbc574-26e5-4cc9-9505-0a86ad13188a",
   "metadata": {},
   "source": [
    "# evaluating the algorithms"
   ]
  },
  {
   "cell_type": "code",
   "execution_count": null,
   "id": "d10f2eff-1259-4087-811c-a46906f288ef",
   "metadata": {},
   "outputs": [],
   "source": [
    "from sklearn import metrics"
   ]
  },
  {
   "cell_type": "code",
   "execution_count": null,
   "id": "47322a72-d777-41fa-81af-47012d4fb701",
   "metadata": {},
   "outputs": [],
   "source": [
    "lrg_score = metrics.r2_score(y_test, predict_lrg)\n",
    "svr_score = metrics.r2_score(y_test, predict_svr)\n",
    "rfr_score = metrics.r2_score(y_test, predict_rfr)\n",
    "gbr_score = metrics.r2_score(y_test, predict_gbr)\n",
    "dtr_score = metrics.r2_score(y_test, predict_dtr)"
   ]
  },
  {
   "cell_type": "code",
   "execution_count": null,
   "id": "b2fee1fc-038b-4c8f-8998-616f44f019dc",
   "metadata": {},
   "outputs": [],
   "source": [
    "print(lrg_score, svr_score, rfr_score, gbr_score, dtr_score)"
   ]
  },
  {
   "cell_type": "code",
   "execution_count": null,
   "id": "28279099-f17e-423a-8826-14336c757ae2",
   "metadata": {},
   "outputs": [],
   "source": [
    "lrg_mse = metrics.mean_squared_error(y_test, predict_lrg)\n",
    "svr_mse = metrics.mean_squared_error(y_test, predict_svr)\n",
    "rfr_mse = metrics.mean_squared_error(y_test, predict_rfr)\n",
    "gbr_mse = metrics.mean_squared_error(y_test, predict_gbr)\n",
    "dtr_mse = metrics.mean_squared_error(y_test, predict_dtr)"
   ]
  },
  {
   "cell_type": "code",
   "execution_count": null,
   "id": "9fb4c4c3-13c1-4f60-8228-5fd23a7237d4",
   "metadata": {},
   "outputs": [],
   "source": [
    "print(lrg_mse, svr_mse, rfr_mse, gbr_mse, dtr_mse)"
   ]
  },
  {
   "cell_type": "code",
   "execution_count": null,
   "id": "7354d734-96e9-4756-bde1-a7428be2985e",
   "metadata": {},
   "outputs": [],
   "source": [
    "lrg_mae = metrics.mean_absolute_error(y_test, predict_lrg)\n",
    "svr_mae = metrics.mean_absolute_error(y_test, predict_svr)\n",
    "rfr_mae = metrics.mean_absolute_error(y_test, predict_rfr)\n",
    "gbr_mae = metrics.mean_absolute_error(y_test, predict_gbr)\n",
    "dtr_mae = metrics.mean_absolute_error(y_test, predict_dtr)"
   ]
  },
  {
   "cell_type": "code",
   "execution_count": null,
   "id": "9beb1f6c-7628-4fdd-a42a-3f7e19bfc862",
   "metadata": {},
   "outputs": [],
   "source": [
    "print(lrg_mae, svr_mae, rfr_mae, gbr_mae, dtr_mae)"
   ]
  },
  {
   "cell_type": "markdown",
   "id": "bdd01872-59dc-436a-96ab-d614f45be361",
   "metadata": {},
   "source": [
    "# Feature importance"
   ]
  },
  {
   "cell_type": "code",
   "execution_count": null,
   "id": "c4457ea3-7cdc-4572-8ed6-6ba75faacb2b",
   "metadata": {},
   "outputs": [],
   "source": [
    "pd.Series(rfr.feature_importances_, index = X_train.columns)*100"
   ]
  },
  {
   "cell_type": "code",
   "execution_count": null,
   "id": "48129485-2673-4499-b865-673173bc33f8",
   "metadata": {},
   "outputs": [],
   "source": [
    "pd.Series(gbr.feature_importances_, index = X_train.columns)*100"
   ]
  },
  {
   "cell_type": "markdown",
   "id": "7fb4ef58-85ae-46cb-8b62-dcfb06036e9a",
   "metadata": {},
   "source": [
    "# saving model"
   ]
  },
  {
   "cell_type": "code",
   "execution_count": null,
   "id": "2bc5f083-3781-498e-8e94-4dcbf9190843",
   "metadata": {},
   "outputs": [],
   "source": [
    "gbr = GradientBoostingRegressor()\n",
    "gbr.fit(X, y)"
   ]
  },
  {
   "cell_type": "code",
   "execution_count": null,
   "id": "72a73bf8-132b-4dcc-9bec-cc12f1578adb",
   "metadata": {},
   "outputs": [],
   "source": [
    "joblib.dump(gbr, 'pizza_price_modal')"
   ]
  },
  {
   "cell_type": "code",
   "execution_count": null,
   "id": "47e57834-b36e-4066-a77b-e74ebe733b80",
   "metadata": {},
   "outputs": [],
   "source": [
    "pizza_price_model = joblib.load('pizza_price_modal')"
   ]
  },
  {
   "cell_type": "code",
   "execution_count": null,
   "id": "50fdb1a7-f85d-4190-adf3-418821adf111",
   "metadata": {},
   "outputs": [],
   "source": [
    "X.columns"
   ]
  },
  {
   "cell_type": "code",
   "execution_count": null,
   "id": "6964a67c-f309-42b3-8097-cd667baa000b",
   "metadata": {},
   "outputs": [],
   "source": [
    "data = {\n",
    "            'company': 0,\n",
    "             'diameter': 12,\n",
    "             'topping': 3,\n",
    "             'variant': 1,\n",
    "            'size': 4,\n",
    "            'extra_sauce':1,\n",
    "            'extra_cheese': 1,\n",
    "            'extra_mushrooms': 1\n",
    "}\n",
    "# pizza_encoder = joblib.load('pizza_encoder')"
   ]
  },
  {
   "cell_type": "code",
   "execution_count": null,
   "id": "d9d8f052-9af2-43a5-ae92-bc88b31ea207",
   "metadata": {},
   "outputs": [],
   "source": [
    "# type(data['company']) == str"
   ]
  },
  {
   "cell_type": "code",
   "execution_count": null,
   "id": "e75e8783-6ddd-4ad6-9582-3e8bccdb3acc",
   "metadata": {},
   "outputs": [],
   "source": [
    "new_df = pd.DataFrame(data, index = [0]\n",
    "            )"
   ]
  },
  {
   "cell_type": "code",
   "execution_count": null,
   "id": "21b47af7-125c-43b6-b6b2-8d5b2b62104f",
   "metadata": {},
   "outputs": [],
   "source": [
    "new_df"
   ]
  },
  {
   "cell_type": "code",
   "execution_count": null,
   "id": "2c3ff449-e9c1-4a42-8cfa-47743c88cc8b",
   "metadata": {},
   "outputs": [],
   "source": [
    "# pizza_encoder.transform(new_df['company'])"
   ]
  },
  {
   "cell_type": "code",
   "execution_count": null,
   "id": "5cf38b3d-bbed-4169-bde5-f4c0f4df37a1",
   "metadata": {},
   "outputs": [],
   "source": [
    "# for col in new_df.select_dtypes('object').columns:\n",
    "    "
   ]
  },
  {
   "cell_type": "code",
   "execution_count": null,
   "id": "807181d7-74e9-4a93-b35f-b60e7ab86681",
   "metadata": {},
   "outputs": [],
   "source": [
    "pizza_price_model.predict(new_df)"
   ]
  },
  {
   "cell_type": "code",
   "execution_count": null,
   "id": "1d0e7146-4600-4766-b7be-0bd2b2bfbd9c",
   "metadata": {},
   "outputs": [],
   "source": []
  }
 ],
 "metadata": {
  "kernelspec": {
   "display_name": "Python 3 (ipykernel)",
   "language": "python",
   "name": "python3"
  },
  "language_info": {
   "codemirror_mode": {
    "name": "ipython",
    "version": 3
   },
   "file_extension": ".py",
   "mimetype": "text/x-python",
   "name": "python",
   "nbconvert_exporter": "python",
   "pygments_lexer": "ipython3",
   "version": "3.11.5"
  }
 },
 "nbformat": 4,
 "nbformat_minor": 5
}
